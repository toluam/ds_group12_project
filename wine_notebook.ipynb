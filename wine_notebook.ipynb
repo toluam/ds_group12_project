{
 "cells": [
  {
   "cell_type": "code",
   "execution_count": 1,
   "metadata": {},
   "outputs": [
    {
     "name": "stderr",
     "output_type": "stream",
     "text": [
      "── \u001b[1mAttaching packages\u001b[22m ─────────────────────────────────────── tidyverse 1.3.0 ──\n",
      "\n",
      "\u001b[32m✔\u001b[39m \u001b[34mggplot2\u001b[39m 3.3.2     \u001b[32m✔\u001b[39m \u001b[34mpurrr  \u001b[39m 0.3.4\n",
      "\u001b[32m✔\u001b[39m \u001b[34mtibble \u001b[39m 3.0.3     \u001b[32m✔\u001b[39m \u001b[34mdplyr  \u001b[39m 1.0.2\n",
      "\u001b[32m✔\u001b[39m \u001b[34mtidyr  \u001b[39m 1.1.2     \u001b[32m✔\u001b[39m \u001b[34mstringr\u001b[39m 1.4.0\n",
      "\u001b[32m✔\u001b[39m \u001b[34mreadr  \u001b[39m 1.3.1     \u001b[32m✔\u001b[39m \u001b[34mforcats\u001b[39m 0.5.0\n",
      "\n",
      "Warning message:\n",
      "“package ‘ggplot2’ was built under R version 4.0.1”\n",
      "Warning message:\n",
      "“package ‘tibble’ was built under R version 4.0.2”\n",
      "Warning message:\n",
      "“package ‘tidyr’ was built under R version 4.0.2”\n",
      "Warning message:\n",
      "“package ‘dplyr’ was built under R version 4.0.2”\n",
      "── \u001b[1mConflicts\u001b[22m ────────────────────────────────────────── tidyverse_conflicts() ──\n",
      "\u001b[31m✖\u001b[39m \u001b[34mdplyr\u001b[39m::\u001b[32mfilter()\u001b[39m masks \u001b[34mstats\u001b[39m::filter()\n",
      "\u001b[31m✖\u001b[39m \u001b[34mdplyr\u001b[39m::\u001b[32mlag()\u001b[39m    masks \u001b[34mstats\u001b[39m::lag()\n",
      "\n",
      "Warning message:\n",
      "“package ‘tidymodels’ was built under R version 4.0.2”\n",
      "── \u001b[1mAttaching packages\u001b[22m ────────────────────────────────────── tidymodels 0.1.1 ──\n",
      "\n",
      "\u001b[32m✔\u001b[39m \u001b[34mbroom    \u001b[39m 0.7.0      \u001b[32m✔\u001b[39m \u001b[34mrecipes  \u001b[39m 0.1.13\n",
      "\u001b[32m✔\u001b[39m \u001b[34mdials    \u001b[39m 0.0.9      \u001b[32m✔\u001b[39m \u001b[34mrsample  \u001b[39m 0.0.7 \n",
      "\u001b[32m✔\u001b[39m \u001b[34minfer    \u001b[39m 0.5.4      \u001b[32m✔\u001b[39m \u001b[34mtune     \u001b[39m 0.1.1 \n",
      "\u001b[32m✔\u001b[39m \u001b[34mmodeldata\u001b[39m 0.0.2      \u001b[32m✔\u001b[39m \u001b[34mworkflows\u001b[39m 0.2.0 \n",
      "\u001b[32m✔\u001b[39m \u001b[34mparsnip  \u001b[39m 0.1.3      \u001b[32m✔\u001b[39m \u001b[34myardstick\u001b[39m 0.0.7 \n",
      "\n",
      "Warning message:\n",
      "“package ‘broom’ was built under R version 4.0.2”\n",
      "Warning message:\n",
      "“package ‘dials’ was built under R version 4.0.2”\n",
      "Warning message:\n",
      "“package ‘infer’ was built under R version 4.0.3”\n",
      "Warning message:\n",
      "“package ‘modeldata’ was built under R version 4.0.1”\n",
      "Warning message:\n",
      "“package ‘parsnip’ was built under R version 4.0.2”\n",
      "Warning message:\n",
      "“package ‘recipes’ was built under R version 4.0.1”\n",
      "Warning message:\n",
      "“package ‘tune’ was built under R version 4.0.2”\n",
      "Warning message:\n",
      "“package ‘workflows’ was built under R version 4.0.2”\n",
      "Warning message:\n",
      "“package ‘yardstick’ was built under R version 4.0.2”\n",
      "── \u001b[1mConflicts\u001b[22m ───────────────────────────────────────── tidymodels_conflicts() ──\n",
      "\u001b[31m✖\u001b[39m \u001b[34mscales\u001b[39m::\u001b[32mdiscard()\u001b[39m masks \u001b[34mpurrr\u001b[39m::discard()\n",
      "\u001b[31m✖\u001b[39m \u001b[34mdplyr\u001b[39m::\u001b[32mfilter()\u001b[39m   masks \u001b[34mstats\u001b[39m::filter()\n",
      "\u001b[31m✖\u001b[39m \u001b[34mrecipes\u001b[39m::\u001b[32mfixed()\u001b[39m  masks \u001b[34mstringr\u001b[39m::fixed()\n",
      "\u001b[31m✖\u001b[39m \u001b[34mdplyr\u001b[39m::\u001b[32mlag()\u001b[39m      masks \u001b[34mstats\u001b[39m::lag()\n",
      "\u001b[31m✖\u001b[39m \u001b[34myardstick\u001b[39m::\u001b[32mspec()\u001b[39m masks \u001b[34mreadr\u001b[39m::spec()\n",
      "\u001b[31m✖\u001b[39m \u001b[34mrecipes\u001b[39m::\u001b[32mstep()\u001b[39m   masks \u001b[34mstats\u001b[39m::step()\n",
      "\n"
     ]
    }
   ],
   "source": [
    "library(tidyverse)\n",
    "library(repr)\n",
    "library(tidymodels)\n",
    "options(repr.matrix.max.rows = 6)"
   ]
  },
  {
   "cell_type": "code",
   "execution_count": 4,
   "metadata": {},
   "outputs": [
    {
     "name": "stderr",
     "output_type": "stream",
     "text": [
      "Using ',' as decimal and '.' as grouping mark. Use read_delim() for more control.\n",
      "\n",
      "Parsed with column specification:\n",
      "cols(\n",
      "  `fixed acidity` = \u001b[32mcol_number()\u001b[39m,\n",
      "  `volatile acidity` = \u001b[31mcol_character()\u001b[39m,\n",
      "  `citric acid` = \u001b[31mcol_character()\u001b[39m,\n",
      "  `residual sugar` = \u001b[32mcol_number()\u001b[39m,\n",
      "  chlorides = \u001b[31mcol_character()\u001b[39m,\n",
      "  `free sulfur dioxide` = \u001b[32mcol_number()\u001b[39m,\n",
      "  `total sulfur dioxide` = \u001b[32mcol_double()\u001b[39m,\n",
      "  density = \u001b[31mcol_character()\u001b[39m,\n",
      "  pH = \u001b[32mcol_number()\u001b[39m,\n",
      "  sulphates = \u001b[31mcol_character()\u001b[39m,\n",
      "  alcohol = \u001b[32mcol_number()\u001b[39m,\n",
      "  quality = \u001b[32mcol_double()\u001b[39m\n",
      ")\n",
      "\n",
      "Warning message:\n",
      "“2 parsing failures.\n",
      " row                  col               expected actual                                                                                         file\n",
      "1296 total sulfur dioxide no trailing characters     .5 'https://archive.ics.uci.edu/ml/machine-learning-databases/wine-quality/winequality-red.csv'\n",
      "1297 total sulfur dioxide no trailing characters     .5 'https://archive.ics.uci.edu/ml/machine-learning-databases/wine-quality/winequality-red.csv'\n",
      "”\n"
     ]
    },
    {
     "data": {
      "text/html": [
       "<table>\n",
       "<caption>A spec_tbl_df: 1599 × 12</caption>\n",
       "<thead>\n",
       "\t<tr><th scope=col>fixed acidity</th><th scope=col>volatile acidity</th><th scope=col>citric acid</th><th scope=col>residual sugar</th><th scope=col>chlorides</th><th scope=col>free sulfur dioxide</th><th scope=col>total sulfur dioxide</th><th scope=col>density</th><th scope=col>pH</th><th scope=col>sulphates</th><th scope=col>alcohol</th><th scope=col>quality</th></tr>\n",
       "\t<tr><th scope=col>&lt;dbl&gt;</th><th scope=col>&lt;chr&gt;</th><th scope=col>&lt;chr&gt;</th><th scope=col>&lt;dbl&gt;</th><th scope=col>&lt;chr&gt;</th><th scope=col>&lt;dbl&gt;</th><th scope=col>&lt;dbl&gt;</th><th scope=col>&lt;chr&gt;</th><th scope=col>&lt;dbl&gt;</th><th scope=col>&lt;chr&gt;</th><th scope=col>&lt;dbl&gt;</th><th scope=col>&lt;dbl&gt;</th></tr>\n",
       "</thead>\n",
       "<tbody>\n",
       "\t<tr><td>74</td><td>0.7 </td><td>0   </td><td>19</td><td>0.076</td><td>11</td><td>34</td><td>0.9978</td><td>351</td><td>0.56</td><td>94</td><td>5</td></tr>\n",
       "\t<tr><td>78</td><td>0.88</td><td>0   </td><td>26</td><td>0.098</td><td>25</td><td>67</td><td>0.9968</td><td> 32</td><td>0.68</td><td>98</td><td>5</td></tr>\n",
       "\t<tr><td>78</td><td>0.76</td><td>0.04</td><td>23</td><td>0.092</td><td>15</td><td>54</td><td>0.997 </td><td>326</td><td>0.65</td><td>98</td><td>5</td></tr>\n",
       "\t<tr><td>⋮</td><td>⋮</td><td>⋮</td><td>⋮</td><td>⋮</td><td>⋮</td><td>⋮</td><td>⋮</td><td>⋮</td><td>⋮</td><td>⋮</td><td>⋮</td></tr>\n",
       "\t<tr><td>63</td><td>0.51 </td><td>0.13</td><td>23</td><td>0.076</td><td>29</td><td>40</td><td>0.99574</td><td>342</td><td>0.75</td><td> 11</td><td>6</td></tr>\n",
       "\t<tr><td>59</td><td>0.645</td><td>0.12</td><td> 2</td><td>0.075</td><td>32</td><td>44</td><td>0.99547</td><td>357</td><td>0.71</td><td>102</td><td>5</td></tr>\n",
       "\t<tr><td> 6</td><td>0.31 </td><td>0.47</td><td>36</td><td>0.067</td><td>18</td><td>42</td><td>0.99549</td><td>339</td><td>0.66</td><td> 11</td><td>6</td></tr>\n",
       "</tbody>\n",
       "</table>\n"
      ],
      "text/latex": [
       "A spec\\_tbl\\_df: 1599 × 12\n",
       "\\begin{tabular}{llllllllllll}\n",
       " fixed acidity & volatile acidity & citric acid & residual sugar & chlorides & free sulfur dioxide & total sulfur dioxide & density & pH & sulphates & alcohol & quality\\\\\n",
       " <dbl> & <chr> & <chr> & <dbl> & <chr> & <dbl> & <dbl> & <chr> & <dbl> & <chr> & <dbl> & <dbl>\\\\\n",
       "\\hline\n",
       "\t 74 & 0.7  & 0    & 19 & 0.076 & 11 & 34 & 0.9978 & 351 & 0.56 & 94 & 5\\\\\n",
       "\t 78 & 0.88 & 0    & 26 & 0.098 & 25 & 67 & 0.9968 &  32 & 0.68 & 98 & 5\\\\\n",
       "\t 78 & 0.76 & 0.04 & 23 & 0.092 & 15 & 54 & 0.997  & 326 & 0.65 & 98 & 5\\\\\n",
       "\t ⋮ & ⋮ & ⋮ & ⋮ & ⋮ & ⋮ & ⋮ & ⋮ & ⋮ & ⋮ & ⋮ & ⋮\\\\\n",
       "\t 63 & 0.51  & 0.13 & 23 & 0.076 & 29 & 40 & 0.99574 & 342 & 0.75 &  11 & 6\\\\\n",
       "\t 59 & 0.645 & 0.12 &  2 & 0.075 & 32 & 44 & 0.99547 & 357 & 0.71 & 102 & 5\\\\\n",
       "\t  6 & 0.31  & 0.47 & 36 & 0.067 & 18 & 42 & 0.99549 & 339 & 0.66 &  11 & 6\\\\\n",
       "\\end{tabular}\n"
      ],
      "text/markdown": [
       "\n",
       "A spec_tbl_df: 1599 × 12\n",
       "\n",
       "| fixed acidity &lt;dbl&gt; | volatile acidity &lt;chr&gt; | citric acid &lt;chr&gt; | residual sugar &lt;dbl&gt; | chlorides &lt;chr&gt; | free sulfur dioxide &lt;dbl&gt; | total sulfur dioxide &lt;dbl&gt; | density &lt;chr&gt; | pH &lt;dbl&gt; | sulphates &lt;chr&gt; | alcohol &lt;dbl&gt; | quality &lt;dbl&gt; |\n",
       "|---|---|---|---|---|---|---|---|---|---|---|---|\n",
       "| 74 | 0.7  | 0    | 19 | 0.076 | 11 | 34 | 0.9978 | 351 | 0.56 | 94 | 5 |\n",
       "| 78 | 0.88 | 0    | 26 | 0.098 | 25 | 67 | 0.9968 |  32 | 0.68 | 98 | 5 |\n",
       "| 78 | 0.76 | 0.04 | 23 | 0.092 | 15 | 54 | 0.997  | 326 | 0.65 | 98 | 5 |\n",
       "| ⋮ | ⋮ | ⋮ | ⋮ | ⋮ | ⋮ | ⋮ | ⋮ | ⋮ | ⋮ | ⋮ | ⋮ |\n",
       "| 63 | 0.51  | 0.13 | 23 | 0.076 | 29 | 40 | 0.99574 | 342 | 0.75 |  11 | 6 |\n",
       "| 59 | 0.645 | 0.12 |  2 | 0.075 | 32 | 44 | 0.99547 | 357 | 0.71 | 102 | 5 |\n",
       "|  6 | 0.31  | 0.47 | 36 | 0.067 | 18 | 42 | 0.99549 | 339 | 0.66 |  11 | 6 |\n",
       "\n"
      ],
      "text/plain": [
       "     fixed acidity volatile acidity citric acid residual sugar chlorides\n",
       "1    74            0.7              0           19             0.076    \n",
       "2    78            0.88             0           26             0.098    \n",
       "3    78            0.76             0.04        23             0.092    \n",
       "⋮    ⋮             ⋮                ⋮           ⋮              ⋮        \n",
       "1597 63            0.51             0.13        23             0.076    \n",
       "1598 59            0.645            0.12         2             0.075    \n",
       "1599  6            0.31             0.47        36             0.067    \n",
       "     free sulfur dioxide total sulfur dioxide density pH  sulphates alcohol\n",
       "1    11                  34                   0.9978  351 0.56      94     \n",
       "2    25                  67                   0.9968   32 0.68      98     \n",
       "3    15                  54                   0.997   326 0.65      98     \n",
       "⋮    ⋮                   ⋮                    ⋮       ⋮   ⋮         ⋮      \n",
       "1597 29                  40                   0.99574 342 0.75       11    \n",
       "1598 32                  44                   0.99547 357 0.71      102    \n",
       "1599 18                  42                   0.99549 339 0.66       11    \n",
       "     quality\n",
       "1    5      \n",
       "2    5      \n",
       "3    5      \n",
       "⋮    ⋮      \n",
       "1597 6      \n",
       "1598 5      \n",
       "1599 6      "
      ]
     },
     "metadata": {},
     "output_type": "display_data"
    },
    {
     "name": "stderr",
     "output_type": "stream",
     "text": [
      "Using ',' as decimal and '.' as grouping mark. Use read_delim() for more control.\n",
      "\n",
      "Parsed with column specification:\n",
      "cols(\n",
      "  `fixed acidity` = \u001b[32mcol_number()\u001b[39m,\n",
      "  `volatile acidity` = \u001b[31mcol_character()\u001b[39m,\n",
      "  `citric acid` = \u001b[31mcol_character()\u001b[39m,\n",
      "  `residual sugar` = \u001b[31mcol_character()\u001b[39m,\n",
      "  chlorides = \u001b[31mcol_character()\u001b[39m,\n",
      "  `free sulfur dioxide` = \u001b[32mcol_number()\u001b[39m,\n",
      "  `total sulfur dioxide` = \u001b[32mcol_number()\u001b[39m,\n",
      "  density = \u001b[31mcol_character()\u001b[39m,\n",
      "  pH = \u001b[32mcol_number()\u001b[39m,\n",
      "  sulphates = \u001b[31mcol_character()\u001b[39m,\n",
      "  alcohol = \u001b[32mcol_number()\u001b[39m,\n",
      "  quality = \u001b[32mcol_double()\u001b[39m\n",
      ")\n",
      "\n"
     ]
    },
    {
     "data": {
      "text/html": [
       "<table>\n",
       "<caption>A spec_tbl_df: 4898 × 12</caption>\n",
       "<thead>\n",
       "\t<tr><th scope=col>fixed acidity</th><th scope=col>volatile acidity</th><th scope=col>citric acid</th><th scope=col>residual sugar</th><th scope=col>chlorides</th><th scope=col>free sulfur dioxide</th><th scope=col>total sulfur dioxide</th><th scope=col>density</th><th scope=col>pH</th><th scope=col>sulphates</th><th scope=col>alcohol</th><th scope=col>quality</th></tr>\n",
       "\t<tr><th scope=col>&lt;dbl&gt;</th><th scope=col>&lt;chr&gt;</th><th scope=col>&lt;chr&gt;</th><th scope=col>&lt;chr&gt;</th><th scope=col>&lt;chr&gt;</th><th scope=col>&lt;dbl&gt;</th><th scope=col>&lt;dbl&gt;</th><th scope=col>&lt;chr&gt;</th><th scope=col>&lt;dbl&gt;</th><th scope=col>&lt;chr&gt;</th><th scope=col>&lt;dbl&gt;</th><th scope=col>&lt;dbl&gt;</th></tr>\n",
       "</thead>\n",
       "<tbody>\n",
       "\t<tr><td> 7</td><td>0.27</td><td>0.36</td><td>20.7</td><td>0.045</td><td>45</td><td>170</td><td>1.001 </td><td>  3</td><td>0.45</td><td> 88</td><td>6</td></tr>\n",
       "\t<tr><td>63</td><td>0.3 </td><td>0.34</td><td>1.6 </td><td>0.049</td><td>14</td><td>132</td><td>0.994 </td><td> 33</td><td>0.49</td><td> 95</td><td>6</td></tr>\n",
       "\t<tr><td>81</td><td>0.28</td><td>0.4 </td><td>6.9 </td><td>0.05 </td><td>30</td><td> 97</td><td>0.9951</td><td>326</td><td>0.44</td><td>101</td><td>6</td></tr>\n",
       "\t<tr><td>⋮</td><td>⋮</td><td>⋮</td><td>⋮</td><td>⋮</td><td>⋮</td><td>⋮</td><td>⋮</td><td>⋮</td><td>⋮</td><td>⋮</td><td>⋮</td></tr>\n",
       "\t<tr><td>65</td><td>0.24</td><td>0.19</td><td>1.2</td><td>0.041</td><td>30</td><td>111</td><td>0.99254</td><td>299</td><td>0.46</td><td> 94</td><td>6</td></tr>\n",
       "\t<tr><td>55</td><td>0.29</td><td>0.3 </td><td>1.1</td><td>0.022</td><td>20</td><td>110</td><td>0.98869</td><td>334</td><td>0.38</td><td>128</td><td>7</td></tr>\n",
       "\t<tr><td> 6</td><td>0.21</td><td>0.38</td><td>0.8</td><td>0.02 </td><td>22</td><td> 98</td><td>0.98941</td><td>326</td><td>0.32</td><td>118</td><td>6</td></tr>\n",
       "</tbody>\n",
       "</table>\n"
      ],
      "text/latex": [
       "A spec\\_tbl\\_df: 4898 × 12\n",
       "\\begin{tabular}{llllllllllll}\n",
       " fixed acidity & volatile acidity & citric acid & residual sugar & chlorides & free sulfur dioxide & total sulfur dioxide & density & pH & sulphates & alcohol & quality\\\\\n",
       " <dbl> & <chr> & <chr> & <chr> & <chr> & <dbl> & <dbl> & <chr> & <dbl> & <chr> & <dbl> & <dbl>\\\\\n",
       "\\hline\n",
       "\t  7 & 0.27 & 0.36 & 20.7 & 0.045 & 45 & 170 & 1.001  &   3 & 0.45 &  88 & 6\\\\\n",
       "\t 63 & 0.3  & 0.34 & 1.6  & 0.049 & 14 & 132 & 0.994  &  33 & 0.49 &  95 & 6\\\\\n",
       "\t 81 & 0.28 & 0.4  & 6.9  & 0.05  & 30 &  97 & 0.9951 & 326 & 0.44 & 101 & 6\\\\\n",
       "\t ⋮ & ⋮ & ⋮ & ⋮ & ⋮ & ⋮ & ⋮ & ⋮ & ⋮ & ⋮ & ⋮ & ⋮\\\\\n",
       "\t 65 & 0.24 & 0.19 & 1.2 & 0.041 & 30 & 111 & 0.99254 & 299 & 0.46 &  94 & 6\\\\\n",
       "\t 55 & 0.29 & 0.3  & 1.1 & 0.022 & 20 & 110 & 0.98869 & 334 & 0.38 & 128 & 7\\\\\n",
       "\t  6 & 0.21 & 0.38 & 0.8 & 0.02  & 22 &  98 & 0.98941 & 326 & 0.32 & 118 & 6\\\\\n",
       "\\end{tabular}\n"
      ],
      "text/markdown": [
       "\n",
       "A spec_tbl_df: 4898 × 12\n",
       "\n",
       "| fixed acidity &lt;dbl&gt; | volatile acidity &lt;chr&gt; | citric acid &lt;chr&gt; | residual sugar &lt;chr&gt; | chlorides &lt;chr&gt; | free sulfur dioxide &lt;dbl&gt; | total sulfur dioxide &lt;dbl&gt; | density &lt;chr&gt; | pH &lt;dbl&gt; | sulphates &lt;chr&gt; | alcohol &lt;dbl&gt; | quality &lt;dbl&gt; |\n",
       "|---|---|---|---|---|---|---|---|---|---|---|---|\n",
       "|  7 | 0.27 | 0.36 | 20.7 | 0.045 | 45 | 170 | 1.001  |   3 | 0.45 |  88 | 6 |\n",
       "| 63 | 0.3  | 0.34 | 1.6  | 0.049 | 14 | 132 | 0.994  |  33 | 0.49 |  95 | 6 |\n",
       "| 81 | 0.28 | 0.4  | 6.9  | 0.05  | 30 |  97 | 0.9951 | 326 | 0.44 | 101 | 6 |\n",
       "| ⋮ | ⋮ | ⋮ | ⋮ | ⋮ | ⋮ | ⋮ | ⋮ | ⋮ | ⋮ | ⋮ | ⋮ |\n",
       "| 65 | 0.24 | 0.19 | 1.2 | 0.041 | 30 | 111 | 0.99254 | 299 | 0.46 |  94 | 6 |\n",
       "| 55 | 0.29 | 0.3  | 1.1 | 0.022 | 20 | 110 | 0.98869 | 334 | 0.38 | 128 | 7 |\n",
       "|  6 | 0.21 | 0.38 | 0.8 | 0.02  | 22 |  98 | 0.98941 | 326 | 0.32 | 118 | 6 |\n",
       "\n"
      ],
      "text/plain": [
       "     fixed acidity volatile acidity citric acid residual sugar chlorides\n",
       "1     7            0.27             0.36        20.7           0.045    \n",
       "2    63            0.3              0.34        1.6            0.049    \n",
       "3    81            0.28             0.4         6.9            0.05     \n",
       "⋮    ⋮             ⋮                ⋮           ⋮              ⋮        \n",
       "4896 65            0.24             0.19        1.2            0.041    \n",
       "4897 55            0.29             0.3         1.1            0.022    \n",
       "4898  6            0.21             0.38        0.8            0.02     \n",
       "     free sulfur dioxide total sulfur dioxide density pH  sulphates alcohol\n",
       "1    45                  170                  1.001     3 0.45       88    \n",
       "2    14                  132                  0.994    33 0.49       95    \n",
       "3    30                   97                  0.9951  326 0.44      101    \n",
       "⋮    ⋮                   ⋮                    ⋮       ⋮   ⋮         ⋮      \n",
       "4896 30                  111                  0.99254 299 0.46       94    \n",
       "4897 20                  110                  0.98869 334 0.38      128    \n",
       "4898 22                   98                  0.98941 326 0.32      118    \n",
       "     quality\n",
       "1    6      \n",
       "2    6      \n",
       "3    6      \n",
       "⋮    ⋮      \n",
       "4896 6      \n",
       "4897 7      \n",
       "4898 6      "
      ]
     },
     "metadata": {},
     "output_type": "display_data"
    }
   ],
   "source": [
    "#loading data\n",
    "url <- \"https://archive.ics.uci.edu/ml/machine-learning-databases/wine-quality/winequality-red.csv\"\n",
    "red_wine <- read_csv2(file = url, col_names = TRUE)\n",
    "red_wine\n",
    "\n",
    "url2 <- \"https://archive.ics.uci.edu/ml/machine-learning-databases/wine-quality/winequality-white.csv\"\n",
    "white_wine <- read_csv2(file = url2, col_names = TRUE)\n",
    "white_wine"
   ]
  },
  {
   "cell_type": "markdown",
   "metadata": {},
   "source": [
    "Selecting our parameters\n",
    "\n",
    "We could start by creating a scatterplot of each variable against the quality/classification metric we've created and see which variables have the strongest relationship as an indicator of what parameters will be most important for our model.\n",
    "\n",
    "A more precise approach would be using feature selection, which will rank the most relevant variables to prediting quality"
   ]
  },
  {
   "cell_type": "code",
   "execution_count": 8,
   "metadata": {},
   "outputs": [
    {
     "data": {
      "text/html": [
       "<table>\n",
       "<caption>A spec_tbl_df: 4898 × 13</caption>\n",
       "<thead>\n",
       "\t<tr><th scope=col>fixed acidity</th><th scope=col>volatile acidity</th><th scope=col>citric acid</th><th scope=col>residual sugar</th><th scope=col>chlorides</th><th scope=col>free sulfur dioxide</th><th scope=col>total sulfur dioxide</th><th scope=col>density</th><th scope=col>pH</th><th scope=col>sulphates</th><th scope=col>alcohol</th><th scope=col>quality</th><th scope=col>binary_quality</th></tr>\n",
       "\t<tr><th scope=col>&lt;dbl&gt;</th><th scope=col>&lt;chr&gt;</th><th scope=col>&lt;chr&gt;</th><th scope=col>&lt;chr&gt;</th><th scope=col>&lt;chr&gt;</th><th scope=col>&lt;dbl&gt;</th><th scope=col>&lt;dbl&gt;</th><th scope=col>&lt;chr&gt;</th><th scope=col>&lt;dbl&gt;</th><th scope=col>&lt;chr&gt;</th><th scope=col>&lt;dbl&gt;</th><th scope=col>&lt;dbl&gt;</th><th scope=col>&lt;dbl&gt;</th></tr>\n",
       "</thead>\n",
       "<tbody>\n",
       "\t<tr><td> 7</td><td>0.27</td><td>0.36</td><td>20.7</td><td>0.045</td><td>45</td><td>170</td><td>1.001 </td><td>  3</td><td>0.45</td><td> 88</td><td>6</td><td>1</td></tr>\n",
       "\t<tr><td>63</td><td>0.3 </td><td>0.34</td><td>1.6 </td><td>0.049</td><td>14</td><td>132</td><td>0.994 </td><td> 33</td><td>0.49</td><td> 95</td><td>6</td><td>1</td></tr>\n",
       "\t<tr><td>81</td><td>0.28</td><td>0.4 </td><td>6.9 </td><td>0.05 </td><td>30</td><td> 97</td><td>0.9951</td><td>326</td><td>0.44</td><td>101</td><td>6</td><td>1</td></tr>\n",
       "\t<tr><td>⋮</td><td>⋮</td><td>⋮</td><td>⋮</td><td>⋮</td><td>⋮</td><td>⋮</td><td>⋮</td><td>⋮</td><td>⋮</td><td>⋮</td><td>⋮</td><td>⋮</td></tr>\n",
       "\t<tr><td>65</td><td>0.24</td><td>0.19</td><td>1.2</td><td>0.041</td><td>30</td><td>111</td><td>0.99254</td><td>299</td><td>0.46</td><td> 94</td><td>6</td><td>1</td></tr>\n",
       "\t<tr><td>55</td><td>0.29</td><td>0.3 </td><td>1.1</td><td>0.022</td><td>20</td><td>110</td><td>0.98869</td><td>334</td><td>0.38</td><td>128</td><td>7</td><td>1</td></tr>\n",
       "\t<tr><td> 6</td><td>0.21</td><td>0.38</td><td>0.8</td><td>0.02 </td><td>22</td><td> 98</td><td>0.98941</td><td>326</td><td>0.32</td><td>118</td><td>6</td><td>1</td></tr>\n",
       "</tbody>\n",
       "</table>\n"
      ],
      "text/latex": [
       "A spec\\_tbl\\_df: 4898 × 13\n",
       "\\begin{tabular}{lllllllllllll}\n",
       " fixed acidity & volatile acidity & citric acid & residual sugar & chlorides & free sulfur dioxide & total sulfur dioxide & density & pH & sulphates & alcohol & quality & binary\\_quality\\\\\n",
       " <dbl> & <chr> & <chr> & <chr> & <chr> & <dbl> & <dbl> & <chr> & <dbl> & <chr> & <dbl> & <dbl> & <dbl>\\\\\n",
       "\\hline\n",
       "\t  7 & 0.27 & 0.36 & 20.7 & 0.045 & 45 & 170 & 1.001  &   3 & 0.45 &  88 & 6 & 1\\\\\n",
       "\t 63 & 0.3  & 0.34 & 1.6  & 0.049 & 14 & 132 & 0.994  &  33 & 0.49 &  95 & 6 & 1\\\\\n",
       "\t 81 & 0.28 & 0.4  & 6.9  & 0.05  & 30 &  97 & 0.9951 & 326 & 0.44 & 101 & 6 & 1\\\\\n",
       "\t ⋮ & ⋮ & ⋮ & ⋮ & ⋮ & ⋮ & ⋮ & ⋮ & ⋮ & ⋮ & ⋮ & ⋮ & ⋮\\\\\n",
       "\t 65 & 0.24 & 0.19 & 1.2 & 0.041 & 30 & 111 & 0.99254 & 299 & 0.46 &  94 & 6 & 1\\\\\n",
       "\t 55 & 0.29 & 0.3  & 1.1 & 0.022 & 20 & 110 & 0.98869 & 334 & 0.38 & 128 & 7 & 1\\\\\n",
       "\t  6 & 0.21 & 0.38 & 0.8 & 0.02  & 22 &  98 & 0.98941 & 326 & 0.32 & 118 & 6 & 1\\\\\n",
       "\\end{tabular}\n"
      ],
      "text/markdown": [
       "\n",
       "A spec_tbl_df: 4898 × 13\n",
       "\n",
       "| fixed acidity &lt;dbl&gt; | volatile acidity &lt;chr&gt; | citric acid &lt;chr&gt; | residual sugar &lt;chr&gt; | chlorides &lt;chr&gt; | free sulfur dioxide &lt;dbl&gt; | total sulfur dioxide &lt;dbl&gt; | density &lt;chr&gt; | pH &lt;dbl&gt; | sulphates &lt;chr&gt; | alcohol &lt;dbl&gt; | quality &lt;dbl&gt; | binary_quality &lt;dbl&gt; |\n",
       "|---|---|---|---|---|---|---|---|---|---|---|---|---|\n",
       "|  7 | 0.27 | 0.36 | 20.7 | 0.045 | 45 | 170 | 1.001  |   3 | 0.45 |  88 | 6 | 1 |\n",
       "| 63 | 0.3  | 0.34 | 1.6  | 0.049 | 14 | 132 | 0.994  |  33 | 0.49 |  95 | 6 | 1 |\n",
       "| 81 | 0.28 | 0.4  | 6.9  | 0.05  | 30 |  97 | 0.9951 | 326 | 0.44 | 101 | 6 | 1 |\n",
       "| ⋮ | ⋮ | ⋮ | ⋮ | ⋮ | ⋮ | ⋮ | ⋮ | ⋮ | ⋮ | ⋮ | ⋮ | ⋮ |\n",
       "| 65 | 0.24 | 0.19 | 1.2 | 0.041 | 30 | 111 | 0.99254 | 299 | 0.46 |  94 | 6 | 1 |\n",
       "| 55 | 0.29 | 0.3  | 1.1 | 0.022 | 20 | 110 | 0.98869 | 334 | 0.38 | 128 | 7 | 1 |\n",
       "|  6 | 0.21 | 0.38 | 0.8 | 0.02  | 22 |  98 | 0.98941 | 326 | 0.32 | 118 | 6 | 1 |\n",
       "\n"
      ],
      "text/plain": [
       "     fixed acidity volatile acidity citric acid residual sugar chlorides\n",
       "1     7            0.27             0.36        20.7           0.045    \n",
       "2    63            0.3              0.34        1.6            0.049    \n",
       "3    81            0.28             0.4         6.9            0.05     \n",
       "⋮    ⋮             ⋮                ⋮           ⋮              ⋮        \n",
       "4896 65            0.24             0.19        1.2            0.041    \n",
       "4897 55            0.29             0.3         1.1            0.022    \n",
       "4898  6            0.21             0.38        0.8            0.02     \n",
       "     free sulfur dioxide total sulfur dioxide density pH  sulphates alcohol\n",
       "1    45                  170                  1.001     3 0.45       88    \n",
       "2    14                  132                  0.994    33 0.49       95    \n",
       "3    30                   97                  0.9951  326 0.44      101    \n",
       "⋮    ⋮                   ⋮                    ⋮       ⋮   ⋮         ⋮      \n",
       "4896 30                  111                  0.99254 299 0.46       94    \n",
       "4897 20                  110                  0.98869 334 0.38      128    \n",
       "4898 22                   98                  0.98941 326 0.32      118    \n",
       "     quality binary_quality\n",
       "1    6       1             \n",
       "2    6       1             \n",
       "3    6       1             \n",
       "⋮    ⋮       ⋮             \n",
       "4896 6       1             \n",
       "4897 7       1             \n",
       "4898 6       1             "
      ]
     },
     "metadata": {},
     "output_type": "display_data"
    },
    {
     "data": {
      "text/html": [
       "<table>\n",
       "<caption>A spec_tbl_df: 1599 × 13</caption>\n",
       "<thead>\n",
       "\t<tr><th scope=col>fixed acidity</th><th scope=col>volatile acidity</th><th scope=col>citric acid</th><th scope=col>residual sugar</th><th scope=col>chlorides</th><th scope=col>free sulfur dioxide</th><th scope=col>total sulfur dioxide</th><th scope=col>density</th><th scope=col>pH</th><th scope=col>sulphates</th><th scope=col>alcohol</th><th scope=col>quality</th><th scope=col>binary_quality</th></tr>\n",
       "\t<tr><th scope=col>&lt;dbl&gt;</th><th scope=col>&lt;chr&gt;</th><th scope=col>&lt;chr&gt;</th><th scope=col>&lt;dbl&gt;</th><th scope=col>&lt;chr&gt;</th><th scope=col>&lt;dbl&gt;</th><th scope=col>&lt;dbl&gt;</th><th scope=col>&lt;chr&gt;</th><th scope=col>&lt;dbl&gt;</th><th scope=col>&lt;chr&gt;</th><th scope=col>&lt;dbl&gt;</th><th scope=col>&lt;dbl&gt;</th><th scope=col>&lt;dbl&gt;</th></tr>\n",
       "</thead>\n",
       "<tbody>\n",
       "\t<tr><td>74</td><td>0.7 </td><td>0   </td><td>19</td><td>0.076</td><td>11</td><td>34</td><td>0.9978</td><td>351</td><td>0.56</td><td>94</td><td>5</td><td>0</td></tr>\n",
       "\t<tr><td>78</td><td>0.88</td><td>0   </td><td>26</td><td>0.098</td><td>25</td><td>67</td><td>0.9968</td><td> 32</td><td>0.68</td><td>98</td><td>5</td><td>0</td></tr>\n",
       "\t<tr><td>78</td><td>0.76</td><td>0.04</td><td>23</td><td>0.092</td><td>15</td><td>54</td><td>0.997 </td><td>326</td><td>0.65</td><td>98</td><td>5</td><td>0</td></tr>\n",
       "\t<tr><td>⋮</td><td>⋮</td><td>⋮</td><td>⋮</td><td>⋮</td><td>⋮</td><td>⋮</td><td>⋮</td><td>⋮</td><td>⋮</td><td>⋮</td><td>⋮</td><td>⋮</td></tr>\n",
       "\t<tr><td>63</td><td>0.51 </td><td>0.13</td><td>23</td><td>0.076</td><td>29</td><td>40</td><td>0.99574</td><td>342</td><td>0.75</td><td> 11</td><td>6</td><td>1</td></tr>\n",
       "\t<tr><td>59</td><td>0.645</td><td>0.12</td><td> 2</td><td>0.075</td><td>32</td><td>44</td><td>0.99547</td><td>357</td><td>0.71</td><td>102</td><td>5</td><td>0</td></tr>\n",
       "\t<tr><td> 6</td><td>0.31 </td><td>0.47</td><td>36</td><td>0.067</td><td>18</td><td>42</td><td>0.99549</td><td>339</td><td>0.66</td><td> 11</td><td>6</td><td>1</td></tr>\n",
       "</tbody>\n",
       "</table>\n"
      ],
      "text/latex": [
       "A spec\\_tbl\\_df: 1599 × 13\n",
       "\\begin{tabular}{lllllllllllll}\n",
       " fixed acidity & volatile acidity & citric acid & residual sugar & chlorides & free sulfur dioxide & total sulfur dioxide & density & pH & sulphates & alcohol & quality & binary\\_quality\\\\\n",
       " <dbl> & <chr> & <chr> & <dbl> & <chr> & <dbl> & <dbl> & <chr> & <dbl> & <chr> & <dbl> & <dbl> & <dbl>\\\\\n",
       "\\hline\n",
       "\t 74 & 0.7  & 0    & 19 & 0.076 & 11 & 34 & 0.9978 & 351 & 0.56 & 94 & 5 & 0\\\\\n",
       "\t 78 & 0.88 & 0    & 26 & 0.098 & 25 & 67 & 0.9968 &  32 & 0.68 & 98 & 5 & 0\\\\\n",
       "\t 78 & 0.76 & 0.04 & 23 & 0.092 & 15 & 54 & 0.997  & 326 & 0.65 & 98 & 5 & 0\\\\\n",
       "\t ⋮ & ⋮ & ⋮ & ⋮ & ⋮ & ⋮ & ⋮ & ⋮ & ⋮ & ⋮ & ⋮ & ⋮ & ⋮\\\\\n",
       "\t 63 & 0.51  & 0.13 & 23 & 0.076 & 29 & 40 & 0.99574 & 342 & 0.75 &  11 & 6 & 1\\\\\n",
       "\t 59 & 0.645 & 0.12 &  2 & 0.075 & 32 & 44 & 0.99547 & 357 & 0.71 & 102 & 5 & 0\\\\\n",
       "\t  6 & 0.31  & 0.47 & 36 & 0.067 & 18 & 42 & 0.99549 & 339 & 0.66 &  11 & 6 & 1\\\\\n",
       "\\end{tabular}\n"
      ],
      "text/markdown": [
       "\n",
       "A spec_tbl_df: 1599 × 13\n",
       "\n",
       "| fixed acidity &lt;dbl&gt; | volatile acidity &lt;chr&gt; | citric acid &lt;chr&gt; | residual sugar &lt;dbl&gt; | chlorides &lt;chr&gt; | free sulfur dioxide &lt;dbl&gt; | total sulfur dioxide &lt;dbl&gt; | density &lt;chr&gt; | pH &lt;dbl&gt; | sulphates &lt;chr&gt; | alcohol &lt;dbl&gt; | quality &lt;dbl&gt; | binary_quality &lt;dbl&gt; |\n",
       "|---|---|---|---|---|---|---|---|---|---|---|---|---|\n",
       "| 74 | 0.7  | 0    | 19 | 0.076 | 11 | 34 | 0.9978 | 351 | 0.56 | 94 | 5 | 0 |\n",
       "| 78 | 0.88 | 0    | 26 | 0.098 | 25 | 67 | 0.9968 |  32 | 0.68 | 98 | 5 | 0 |\n",
       "| 78 | 0.76 | 0.04 | 23 | 0.092 | 15 | 54 | 0.997  | 326 | 0.65 | 98 | 5 | 0 |\n",
       "| ⋮ | ⋮ | ⋮ | ⋮ | ⋮ | ⋮ | ⋮ | ⋮ | ⋮ | ⋮ | ⋮ | ⋮ | ⋮ |\n",
       "| 63 | 0.51  | 0.13 | 23 | 0.076 | 29 | 40 | 0.99574 | 342 | 0.75 |  11 | 6 | 1 |\n",
       "| 59 | 0.645 | 0.12 |  2 | 0.075 | 32 | 44 | 0.99547 | 357 | 0.71 | 102 | 5 | 0 |\n",
       "|  6 | 0.31  | 0.47 | 36 | 0.067 | 18 | 42 | 0.99549 | 339 | 0.66 |  11 | 6 | 1 |\n",
       "\n"
      ],
      "text/plain": [
       "     fixed acidity volatile acidity citric acid residual sugar chlorides\n",
       "1    74            0.7              0           19             0.076    \n",
       "2    78            0.88             0           26             0.098    \n",
       "3    78            0.76             0.04        23             0.092    \n",
       "⋮    ⋮             ⋮                ⋮           ⋮              ⋮        \n",
       "1597 63            0.51             0.13        23             0.076    \n",
       "1598 59            0.645            0.12         2             0.075    \n",
       "1599  6            0.31             0.47        36             0.067    \n",
       "     free sulfur dioxide total sulfur dioxide density pH  sulphates alcohol\n",
       "1    11                  34                   0.9978  351 0.56      94     \n",
       "2    25                  67                   0.9968   32 0.68      98     \n",
       "3    15                  54                   0.997   326 0.65      98     \n",
       "⋮    ⋮                   ⋮                    ⋮       ⋮   ⋮         ⋮      \n",
       "1597 29                  40                   0.99574 342 0.75       11    \n",
       "1598 32                  44                   0.99547 357 0.71      102    \n",
       "1599 18                  42                   0.99549 339 0.66       11    \n",
       "     quality binary_quality\n",
       "1    5       0             \n",
       "2    5       0             \n",
       "3    5       0             \n",
       "⋮    ⋮       ⋮             \n",
       "1597 6       1             \n",
       "1598 5       0             \n",
       "1599 6       1             "
      ]
     },
     "metadata": {},
     "output_type": "display_data"
    }
   ],
   "source": [
    "# Making the quality binary\n",
    "white_wine_binary <- white_wine %>%\n",
    "    mutate(binary_quality = if_else(quality < 6, 0, 1))\n",
    "\n",
    "red_wine_binary <- red_wine %>%\n",
    "    mutate(binary_quality = if_else(quality < 6, 0, 1))\n",
    "\n",
    "white_wine_binary\n",
    "red_wine_binary"
   ]
  },
  {
   "cell_type": "code",
   "execution_count": 14,
   "metadata": {},
   "outputs": [
    {
     "data": {
      "image/png": "[encoded data removed]",
      "text/plain": [
       "plot without title"
      ]
     },
     "metadata": {
      "image/png": {
       "height": 420,
       "width": 420
      }
     },
     "output_type": "display_data"
    },
    {
     "data": {
      "image/png": "[encoded data removed]",
      "text/plain": [
       "plot without title"
      ]
     },
     "metadata": {
      "image/png": {
       "height": 420,
       "width": 420
      }
     },
     "output_type": "display_data"
    },
    {
     "data": {
      "image/png": "[encoded data removed]",
      "text/plain": [
       "plot without title"
      ]
     },
     "metadata": {
      "image/png": {
       "height": 420,
       "width": 420
      }
     },
     "output_type": "display_data"
    },
    {
     "data": {
      "image/png": "[encoded data removed]",
      "text/plain": [
       "plot without title"
      ]
     },
     "metadata": {
      "image/png": {
       "height": 420,
       "width": 420
      }
     },
     "output_type": "display_data"
    }
   ],
   "source": [
    "## Visualizing binary quality distributions\n",
    "white_wine_plot <- ggplot(white_wine, aes(x=quality)) + geom_histogram(binwidth=0.5)\n",
    "white_wine_plot\n",
    "\n",
    "white_wine_plot_binary <- ggplot(white_wine_binary, aes(x=binary_quality)) + geom_histogram(binwidth=0.5)\n",
    "white_wine_plot_binary\n",
    "\n",
    "red_wine_plot <- ggplot(red_wine, aes(x=quality)) + geom_histogram(binwidth=0.5)\n",
    "red_wine_plot\n",
    "\n",
    "red_wine_plot_binary <- ggplot(red_wine_binary, aes(x=binary_quality)) + geom_histogram(binwidth=0.5)\n",
    "red_wine_plot_binary"
   ]
  },
  {
   "cell_type": "code",
   "execution_count": 22,
   "metadata": {},
   "outputs": [
    {
     "data": {
      "image/png": "[encoded data removed]",
      "text/plain": [
       "plot without title"
      ]
     },
     "metadata": {
      "image/png": {
       "height": 420,
       "width": 420
      }
     },
     "output_type": "display_data"
    },
    {
     "data": {
      "image/png": "[encoded data removed]",
      "text/plain": [
       "plot without title"
      ]
     },
     "metadata": {
      "image/png": {
       "height": 420,
       "width": 420
      }
     },
     "output_type": "display_data"
    }
   ],
   "source": [
    "# Visualizing distributions with three categorical variables\n",
    "white_wine_filtered <- white_wine %>%\n",
    "    filter(quality >= 5, quality <= 7)\n",
    "\n",
    "red_wine_filtered <- red_wine %>%\n",
    "    filter(quality >= 5, quality <= 7)\n",
    "\n",
    "white_wine_filtered_plot <- ggplot(white_wine_filtered, aes(x=quality)) + geom_histogram(binwidth=0.5)\n",
    "white_wine_filtered_plot\n",
    "\n",
    "red_wine_filtered_plot <- ggplot(red_wine_filtered, aes(x=quality)) + geom_histogram(binwidth=0.5)\n",
    "red_wine_filtered_plot"
   ]
  },
  {
   "cell_type": "code",
   "execution_count": null,
   "metadata": {},
   "outputs": [],
   "source": []
  },
  {
   "cell_type": "code",
   "execution_count": null,
   "metadata": {},
   "outputs": [],
   "source": []
  }
 ],
 "metadata": {
  "kernelspec": {
   "display_name": "R",
   "language": "R",
   "name": "ir"
  },
  "language_info": {
   "codemirror_mode": "r",
   "file_extension": ".r",
   "mimetype": "text/x-r-source",
   "name": "R",
   "pygments_lexer": "r",
   "version": "4.0.0"
  }
 },
 "nbformat": 4,
 "nbformat_minor": 4
}
