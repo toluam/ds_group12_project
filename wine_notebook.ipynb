{
 "cells": [
  {
   "cell_type": "code",
   "execution_count": 66,
   "metadata": {},
   "outputs": [],
   "source": [
    "library(tidyverse)\n",
    "library(repr)\n",
    "library(tidymodels)\n",
    "options(repr.matrix.max.rows = 6)"
   ]
  },
  {
   "cell_type": "code",
   "execution_count": 67,
   "metadata": {},
   "outputs": [
    {
     "name": "stderr",
     "output_type": "stream",
     "text": [
      "Using ',' as decimal and '.' as grouping mark. Use read_delim() for more control.\n",
      "\n",
      "Parsed with column specification:\n",
      "cols(\n",
      "  `fixed acidity` = \u001b[32mcol_number()\u001b[39m,\n",
      "  `volatile acidity` = \u001b[31mcol_character()\u001b[39m,\n",
      "  `citric acid` = \u001b[31mcol_character()\u001b[39m,\n",
      "  `residual sugar` = \u001b[31mcol_character()\u001b[39m,\n",
      "  chlorides = \u001b[31mcol_character()\u001b[39m,\n",
      "  `free sulfur dioxide` = \u001b[32mcol_number()\u001b[39m,\n",
      "  `total sulfur dioxide` = \u001b[32mcol_number()\u001b[39m,\n",
      "  density = \u001b[31mcol_character()\u001b[39m,\n",
      "  pH = \u001b[32mcol_number()\u001b[39m,\n",
      "  sulphates = \u001b[31mcol_character()\u001b[39m,\n",
      "  alcohol = \u001b[32mcol_number()\u001b[39m,\n",
      "  quality = \u001b[32mcol_double()\u001b[39m\n",
      ")\n",
      "\n"
     ]
    },
    {
     "data": {
      "text/html": [
       "<table>\n",
       "<caption>A spec_tbl_df: 4898 × 12</caption>\n",
       "<thead>\n",
       "\t<tr><th scope=col>fixed acidity</th><th scope=col>volatile acidity</th><th scope=col>citric acid</th><th scope=col>residual sugar</th><th scope=col>chlorides</th><th scope=col>free sulfur dioxide</th><th scope=col>total sulfur dioxide</th><th scope=col>density</th><th scope=col>pH</th><th scope=col>sulphates</th><th scope=col>alcohol</th><th scope=col>quality</th></tr>\n",
       "\t<tr><th scope=col>&lt;dbl&gt;</th><th scope=col>&lt;chr&gt;</th><th scope=col>&lt;chr&gt;</th><th scope=col>&lt;chr&gt;</th><th scope=col>&lt;chr&gt;</th><th scope=col>&lt;dbl&gt;</th><th scope=col>&lt;dbl&gt;</th><th scope=col>&lt;chr&gt;</th><th scope=col>&lt;dbl&gt;</th><th scope=col>&lt;chr&gt;</th><th scope=col>&lt;dbl&gt;</th><th scope=col>&lt;dbl&gt;</th></tr>\n",
       "</thead>\n",
       "<tbody>\n",
       "\t<tr><td> 7</td><td>0.27</td><td>0.36</td><td>20.7</td><td>0.045</td><td>45</td><td>170</td><td>1.001 </td><td>  3</td><td>0.45</td><td> 88</td><td>6</td></tr>\n",
       "\t<tr><td>63</td><td>0.3 </td><td>0.34</td><td>1.6 </td><td>0.049</td><td>14</td><td>132</td><td>0.994 </td><td> 33</td><td>0.49</td><td> 95</td><td>6</td></tr>\n",
       "\t<tr><td>81</td><td>0.28</td><td>0.4 </td><td>6.9 </td><td>0.05 </td><td>30</td><td> 97</td><td>0.9951</td><td>326</td><td>0.44</td><td>101</td><td>6</td></tr>\n",
       "\t<tr><td>⋮</td><td>⋮</td><td>⋮</td><td>⋮</td><td>⋮</td><td>⋮</td><td>⋮</td><td>⋮</td><td>⋮</td><td>⋮</td><td>⋮</td><td>⋮</td></tr>\n",
       "\t<tr><td>65</td><td>0.24</td><td>0.19</td><td>1.2</td><td>0.041</td><td>30</td><td>111</td><td>0.99254</td><td>299</td><td>0.46</td><td> 94</td><td>6</td></tr>\n",
       "\t<tr><td>55</td><td>0.29</td><td>0.3 </td><td>1.1</td><td>0.022</td><td>20</td><td>110</td><td>0.98869</td><td>334</td><td>0.38</td><td>128</td><td>7</td></tr>\n",
       "\t<tr><td> 6</td><td>0.21</td><td>0.38</td><td>0.8</td><td>0.02 </td><td>22</td><td> 98</td><td>0.98941</td><td>326</td><td>0.32</td><td>118</td><td>6</td></tr>\n",
       "</tbody>\n",
       "</table>\n"
      ],
      "text/latex": [
       "A spec\\_tbl\\_df: 4898 × 12\n",
       "\\begin{tabular}{llllllllllll}\n",
       " fixed acidity & volatile acidity & citric acid & residual sugar & chlorides & free sulfur dioxide & total sulfur dioxide & density & pH & sulphates & alcohol & quality\\\\\n",
       " <dbl> & <chr> & <chr> & <chr> & <chr> & <dbl> & <dbl> & <chr> & <dbl> & <chr> & <dbl> & <dbl>\\\\\n",
       "\\hline\n",
       "\t  7 & 0.27 & 0.36 & 20.7 & 0.045 & 45 & 170 & 1.001  &   3 & 0.45 &  88 & 6\\\\\n",
       "\t 63 & 0.3  & 0.34 & 1.6  & 0.049 & 14 & 132 & 0.994  &  33 & 0.49 &  95 & 6\\\\\n",
       "\t 81 & 0.28 & 0.4  & 6.9  & 0.05  & 30 &  97 & 0.9951 & 326 & 0.44 & 101 & 6\\\\\n",
       "\t ⋮ & ⋮ & ⋮ & ⋮ & ⋮ & ⋮ & ⋮ & ⋮ & ⋮ & ⋮ & ⋮ & ⋮\\\\\n",
       "\t 65 & 0.24 & 0.19 & 1.2 & 0.041 & 30 & 111 & 0.99254 & 299 & 0.46 &  94 & 6\\\\\n",
       "\t 55 & 0.29 & 0.3  & 1.1 & 0.022 & 20 & 110 & 0.98869 & 334 & 0.38 & 128 & 7\\\\\n",
       "\t  6 & 0.21 & 0.38 & 0.8 & 0.02  & 22 &  98 & 0.98941 & 326 & 0.32 & 118 & 6\\\\\n",
       "\\end{tabular}\n"
      ],
      "text/markdown": [
       "\n",
       "A spec_tbl_df: 4898 × 12\n",
       "\n",
       "| fixed acidity &lt;dbl&gt; | volatile acidity &lt;chr&gt; | citric acid &lt;chr&gt; | residual sugar &lt;chr&gt; | chlorides &lt;chr&gt; | free sulfur dioxide &lt;dbl&gt; | total sulfur dioxide &lt;dbl&gt; | density &lt;chr&gt; | pH &lt;dbl&gt; | sulphates &lt;chr&gt; | alcohol &lt;dbl&gt; | quality &lt;dbl&gt; |\n",
       "|---|---|---|---|---|---|---|---|---|---|---|---|\n",
       "|  7 | 0.27 | 0.36 | 20.7 | 0.045 | 45 | 170 | 1.001  |   3 | 0.45 |  88 | 6 |\n",
       "| 63 | 0.3  | 0.34 | 1.6  | 0.049 | 14 | 132 | 0.994  |  33 | 0.49 |  95 | 6 |\n",
       "| 81 | 0.28 | 0.4  | 6.9  | 0.05  | 30 |  97 | 0.9951 | 326 | 0.44 | 101 | 6 |\n",
       "| ⋮ | ⋮ | ⋮ | ⋮ | ⋮ | ⋮ | ⋮ | ⋮ | ⋮ | ⋮ | ⋮ | ⋮ |\n",
       "| 65 | 0.24 | 0.19 | 1.2 | 0.041 | 30 | 111 | 0.99254 | 299 | 0.46 |  94 | 6 |\n",
       "| 55 | 0.29 | 0.3  | 1.1 | 0.022 | 20 | 110 | 0.98869 | 334 | 0.38 | 128 | 7 |\n",
       "|  6 | 0.21 | 0.38 | 0.8 | 0.02  | 22 |  98 | 0.98941 | 326 | 0.32 | 118 | 6 |\n",
       "\n"
      ],
      "text/plain": [
       "     fixed acidity volatile acidity citric acid residual sugar chlorides\n",
       "1     7            0.27             0.36        20.7           0.045    \n",
       "2    63            0.3              0.34        1.6            0.049    \n",
       "3    81            0.28             0.4         6.9            0.05     \n",
       "⋮    ⋮             ⋮                ⋮           ⋮              ⋮        \n",
       "4896 65            0.24             0.19        1.2            0.041    \n",
       "4897 55            0.29             0.3         1.1            0.022    \n",
       "4898  6            0.21             0.38        0.8            0.02     \n",
       "     free sulfur dioxide total sulfur dioxide density pH  sulphates alcohol\n",
       "1    45                  170                  1.001     3 0.45       88    \n",
       "2    14                  132                  0.994    33 0.49       95    \n",
       "3    30                   97                  0.9951  326 0.44      101    \n",
       "⋮    ⋮                   ⋮                    ⋮       ⋮   ⋮         ⋮      \n",
       "4896 30                  111                  0.99254 299 0.46       94    \n",
       "4897 20                  110                  0.98869 334 0.38      128    \n",
       "4898 22                   98                  0.98941 326 0.32      118    \n",
       "     quality\n",
       "1    6      \n",
       "2    6      \n",
       "3    6      \n",
       "⋮    ⋮      \n",
       "4896 6      \n",
       "4897 7      \n",
       "4898 6      "
      ]
     },
     "metadata": {},
     "output_type": "display_data"
    }
   ],
   "source": [
    "#loading data\n",
    "url <- \"https://archive.ics.uci.edu/ml/machine-learning-databases/wine-quality/winequality-white.csv\"\n",
    "white_wine <- read_csv2(file = url, col_names = TRUE)\n",
    "white_wine"
   ]
  },
  {
   "cell_type": "markdown",
   "metadata": {},
   "source": [
    "Selecting our parameters\n",
    "\n",
    "We could start by creating a scatterplot of each variable against the quality/classification metric we've created and see which variables have the strongest relationship as an indicator of what parameters will be most important for our model.\n",
    "\n",
    "A more precise approach would be using feature selection, which will rank the most relevant variables to prediting quality"
   ]
  },
  {
   "cell_type": "code",
   "execution_count": 69,
   "metadata": {},
   "outputs": [
    {
     "data": {
      "text/html": [
       "5.87790935075541"
      ],
      "text/latex": [
       "5.87790935075541"
      ],
      "text/markdown": [
       "5.87790935075541"
      ],
      "text/plain": [
       "[1] 5.877909"
      ]
     },
     "metadata": {},
     "output_type": "display_data"
    },
    {
     "data": {
      "text/html": [
       "<table>\n",
       "<caption>A spec_tbl_df: 4898 × 13</caption>\n",
       "<thead>\n",
       "\t<tr><th scope=col>fixed.acidity</th><th scope=col>volatile.acidity</th><th scope=col>citric.acid</th><th scope=col>residual.sugar</th><th scope=col>chlorides</th><th scope=col>free.sulfur.dioxide</th><th scope=col>total.sulfur.dioxide</th><th scope=col>density</th><th scope=col>pH</th><th scope=col>sulphates</th><th scope=col>alcohol</th><th scope=col>quality</th><th scope=col>binary_quality</th></tr>\n",
       "\t<tr><th scope=col>&lt;dbl&gt;</th><th scope=col>&lt;dbl&gt;</th><th scope=col>&lt;dbl&gt;</th><th scope=col>&lt;dbl&gt;</th><th scope=col>&lt;dbl&gt;</th><th scope=col>&lt;dbl&gt;</th><th scope=col>&lt;dbl&gt;</th><th scope=col>&lt;dbl&gt;</th><th scope=col>&lt;dbl&gt;</th><th scope=col>&lt;dbl&gt;</th><th scope=col>&lt;dbl&gt;</th><th scope=col>&lt;dbl&gt;</th><th scope=col>&lt;dbl&gt;</th></tr>\n",
       "</thead>\n",
       "<tbody>\n",
       "\t<tr><td> 7</td><td>0.27</td><td>0.36</td><td>20.7</td><td>0.045</td><td>45</td><td>170</td><td>1.0010</td><td>  3</td><td>0.45</td><td> 88</td><td>6</td><td>1</td></tr>\n",
       "\t<tr><td>63</td><td>0.30</td><td>0.34</td><td> 1.6</td><td>0.049</td><td>14</td><td>132</td><td>0.9940</td><td> 33</td><td>0.49</td><td> 95</td><td>6</td><td>1</td></tr>\n",
       "\t<tr><td>81</td><td>0.28</td><td>0.40</td><td> 6.9</td><td>0.050</td><td>30</td><td> 97</td><td>0.9951</td><td>326</td><td>0.44</td><td>101</td><td>6</td><td>1</td></tr>\n",
       "\t<tr><td>⋮</td><td>⋮</td><td>⋮</td><td>⋮</td><td>⋮</td><td>⋮</td><td>⋮</td><td>⋮</td><td>⋮</td><td>⋮</td><td>⋮</td><td>⋮</td><td>⋮</td></tr>\n",
       "\t<tr><td>65</td><td>0.24</td><td>0.19</td><td>1.2</td><td>0.041</td><td>30</td><td>111</td><td>0.99254</td><td>299</td><td>0.46</td><td> 94</td><td>6</td><td>1</td></tr>\n",
       "\t<tr><td>55</td><td>0.29</td><td>0.30</td><td>1.1</td><td>0.022</td><td>20</td><td>110</td><td>0.98869</td><td>334</td><td>0.38</td><td>128</td><td>7</td><td>1</td></tr>\n",
       "\t<tr><td> 6</td><td>0.21</td><td>0.38</td><td>0.8</td><td>0.020</td><td>22</td><td> 98</td><td>0.98941</td><td>326</td><td>0.32</td><td>118</td><td>6</td><td>1</td></tr>\n",
       "</tbody>\n",
       "</table>\n"
      ],
      "text/latex": [
       "A spec\\_tbl\\_df: 4898 × 13\n",
       "\\begin{tabular}{lllllllllllll}\n",
       " fixed.acidity & volatile.acidity & citric.acid & residual.sugar & chlorides & free.sulfur.dioxide & total.sulfur.dioxide & density & pH & sulphates & alcohol & quality & binary\\_quality\\\\\n",
       " <dbl> & <dbl> & <dbl> & <dbl> & <dbl> & <dbl> & <dbl> & <dbl> & <dbl> & <dbl> & <dbl> & <dbl> & <dbl>\\\\\n",
       "\\hline\n",
       "\t  7 & 0.27 & 0.36 & 20.7 & 0.045 & 45 & 170 & 1.0010 &   3 & 0.45 &  88 & 6 & 1\\\\\n",
       "\t 63 & 0.30 & 0.34 &  1.6 & 0.049 & 14 & 132 & 0.9940 &  33 & 0.49 &  95 & 6 & 1\\\\\n",
       "\t 81 & 0.28 & 0.40 &  6.9 & 0.050 & 30 &  97 & 0.9951 & 326 & 0.44 & 101 & 6 & 1\\\\\n",
       "\t ⋮ & ⋮ & ⋮ & ⋮ & ⋮ & ⋮ & ⋮ & ⋮ & ⋮ & ⋮ & ⋮ & ⋮ & ⋮\\\\\n",
       "\t 65 & 0.24 & 0.19 & 1.2 & 0.041 & 30 & 111 & 0.99254 & 299 & 0.46 &  94 & 6 & 1\\\\\n",
       "\t 55 & 0.29 & 0.30 & 1.1 & 0.022 & 20 & 110 & 0.98869 & 334 & 0.38 & 128 & 7 & 1\\\\\n",
       "\t  6 & 0.21 & 0.38 & 0.8 & 0.020 & 22 &  98 & 0.98941 & 326 & 0.32 & 118 & 6 & 1\\\\\n",
       "\\end{tabular}\n"
      ],
      "text/markdown": [
       "\n",
       "A spec_tbl_df: 4898 × 13\n",
       "\n",
       "| fixed.acidity &lt;dbl&gt; | volatile.acidity &lt;dbl&gt; | citric.acid &lt;dbl&gt; | residual.sugar &lt;dbl&gt; | chlorides &lt;dbl&gt; | free.sulfur.dioxide &lt;dbl&gt; | total.sulfur.dioxide &lt;dbl&gt; | density &lt;dbl&gt; | pH &lt;dbl&gt; | sulphates &lt;dbl&gt; | alcohol &lt;dbl&gt; | quality &lt;dbl&gt; | binary_quality &lt;dbl&gt; |\n",
       "|---|---|---|---|---|---|---|---|---|---|---|---|---|\n",
       "|  7 | 0.27 | 0.36 | 20.7 | 0.045 | 45 | 170 | 1.0010 |   3 | 0.45 |  88 | 6 | 1 |\n",
       "| 63 | 0.30 | 0.34 |  1.6 | 0.049 | 14 | 132 | 0.9940 |  33 | 0.49 |  95 | 6 | 1 |\n",
       "| 81 | 0.28 | 0.40 |  6.9 | 0.050 | 30 |  97 | 0.9951 | 326 | 0.44 | 101 | 6 | 1 |\n",
       "| ⋮ | ⋮ | ⋮ | ⋮ | ⋮ | ⋮ | ⋮ | ⋮ | ⋮ | ⋮ | ⋮ | ⋮ | ⋮ |\n",
       "| 65 | 0.24 | 0.19 | 1.2 | 0.041 | 30 | 111 | 0.99254 | 299 | 0.46 |  94 | 6 | 1 |\n",
       "| 55 | 0.29 | 0.30 | 1.1 | 0.022 | 20 | 110 | 0.98869 | 334 | 0.38 | 128 | 7 | 1 |\n",
       "|  6 | 0.21 | 0.38 | 0.8 | 0.020 | 22 |  98 | 0.98941 | 326 | 0.32 | 118 | 6 | 1 |\n",
       "\n"
      ],
      "text/plain": [
       "     fixed.acidity volatile.acidity citric.acid residual.sugar chlorides\n",
       "1     7            0.27             0.36        20.7           0.045    \n",
       "2    63            0.30             0.34         1.6           0.049    \n",
       "3    81            0.28             0.40         6.9           0.050    \n",
       "⋮    ⋮             ⋮                ⋮           ⋮              ⋮        \n",
       "4896 65            0.24             0.19        1.2            0.041    \n",
       "4897 55            0.29             0.30        1.1            0.022    \n",
       "4898  6            0.21             0.38        0.8            0.020    \n",
       "     free.sulfur.dioxide total.sulfur.dioxide density pH  sulphates alcohol\n",
       "1    45                  170                  1.0010    3 0.45       88    \n",
       "2    14                  132                  0.9940   33 0.49       95    \n",
       "3    30                   97                  0.9951  326 0.44      101    \n",
       "⋮    ⋮                   ⋮                    ⋮       ⋮   ⋮         ⋮      \n",
       "4896 30                  111                  0.99254 299 0.46       94    \n",
       "4897 20                  110                  0.98869 334 0.38      128    \n",
       "4898 22                   98                  0.98941 326 0.32      118    \n",
       "     quality binary_quality\n",
       "1    6       1             \n",
       "2    6       1             \n",
       "3    6       1             \n",
       "⋮    ⋮       ⋮             \n",
       "4896 6       1             \n",
       "4897 7       1             \n",
       "4898 6       1             "
      ]
     },
     "metadata": {},
     "output_type": "display_data"
    }
   ],
   "source": [
    "## Data Cleaning ##\n",
    "colnames(white_wine) <- make.names(colnames(white_wine))\n",
    "\n",
    "white_wine$chlorides <- as.numeric(as.character(white_wine$chlorides))\n",
    "white_wine$volatile.acidity <- as.numeric(as.character(white_wine$volatile.acidity))\n",
    "white_wine$citric.acid <- as.numeric(as.character(white_wine$citric.acid))\n",
    "white_wine$residual.sugar <- as.numeric(as.character(white_wine$residual.sugar))\n",
    "white_wine$density <- as.numeric(as.character(white_wine$density))\n",
    "white_wine$sulphates <- as.numeric(as.character(white_wine$sulphates))\n",
    "\n",
    "# # Extracting the columns we want\n",
    "# redwine <- red_wine %>%\n",
    "# select(..., ..., ..., quality)\n",
    "\n",
    "# whitewine <- white_wine %>%\n",
    "# select(..., ..., ..., quality)\n",
    "\n",
    "# Finding the mean quality of white wine\n",
    "avg_quality <- mean(white_wine$quality)\n",
    "avg_quality\n",
    "\n",
    "# # Making the quality binary\n",
    "white_wine_binary <- white_wine %>%\n",
    "    mutate(binary_quality = if_else(quality < avg_quality, 0, 1))\n",
    "\n",
    "white_wine_binary"
   ]
  },
  {
   "cell_type": "code",
   "execution_count": 81,
   "metadata": {},
   "outputs": [
    {
     "name": "stderr",
     "output_type": "stream",
     "text": [
      "`summarise()` ungrouping output (override with `.groups` argument)\n",
      "\n",
      "`summarise()` ungrouping output (override with `.groups` argument)\n",
      "\n"
     ]
    },
    {
     "data": {
      "text/html": [
       "<table>\n",
       "<caption>A tibble: 7 × 2</caption>\n",
       "<thead>\n",
       "\t<tr><th scope=col>quality</th><th scope=col>n</th></tr>\n",
       "\t<tr><th scope=col>&lt;dbl&gt;</th><th scope=col>&lt;int&gt;</th></tr>\n",
       "</thead>\n",
       "<tbody>\n",
       "\t<tr><td>3</td><td>  20</td></tr>\n",
       "\t<tr><td>4</td><td> 163</td></tr>\n",
       "\t<tr><td>5</td><td>1457</td></tr>\n",
       "\t<tr><td>6</td><td>2198</td></tr>\n",
       "\t<tr><td>7</td><td> 880</td></tr>\n",
       "\t<tr><td>8</td><td> 175</td></tr>\n",
       "\t<tr><td>9</td><td>   5</td></tr>\n",
       "</tbody>\n",
       "</table>\n"
      ],
      "text/latex": [
       "A tibble: 7 × 2\n",
       "\\begin{tabular}{ll}\n",
       " quality & n\\\\\n",
       " <dbl> & <int>\\\\\n",
       "\\hline\n",
       "\t 3 &   20\\\\\n",
       "\t 4 &  163\\\\\n",
       "\t 5 & 1457\\\\\n",
       "\t 6 & 2198\\\\\n",
       "\t 7 &  880\\\\\n",
       "\t 8 &  175\\\\\n",
       "\t 9 &    5\\\\\n",
       "\\end{tabular}\n"
      ],
      "text/markdown": [
       "\n",
       "A tibble: 7 × 2\n",
       "\n",
       "| quality &lt;dbl&gt; | n &lt;int&gt; |\n",
       "|---|---|\n",
       "| 3 |   20 |\n",
       "| 4 |  163 |\n",
       "| 5 | 1457 |\n",
       "| 6 | 2198 |\n",
       "| 7 |  880 |\n",
       "| 8 |  175 |\n",
       "| 9 |    5 |\n",
       "\n"
      ],
      "text/plain": [
       "  quality n   \n",
       "1 3         20\n",
       "2 4        163\n",
       "3 5       1457\n",
       "4 6       2198\n",
       "5 7        880\n",
       "6 8        175\n",
       "7 9          5"
      ]
     },
     "metadata": {},
     "output_type": "display_data"
    },
    {
     "data": {
      "text/html": [
       "<table>\n",
       "<caption>A tibble: 2 × 2</caption>\n",
       "<thead>\n",
       "\t<tr><th scope=col>binary_quality</th><th scope=col>n</th></tr>\n",
       "\t<tr><th scope=col>&lt;dbl&gt;</th><th scope=col>&lt;int&gt;</th></tr>\n",
       "</thead>\n",
       "<tbody>\n",
       "\t<tr><td>0</td><td>1640</td></tr>\n",
       "\t<tr><td>1</td><td>3258</td></tr>\n",
       "</tbody>\n",
       "</table>\n"
      ],
      "text/latex": [
       "A tibble: 2 × 2\n",
       "\\begin{tabular}{ll}\n",
       " binary\\_quality & n\\\\\n",
       " <dbl> & <int>\\\\\n",
       "\\hline\n",
       "\t 0 & 1640\\\\\n",
       "\t 1 & 3258\\\\\n",
       "\\end{tabular}\n"
      ],
      "text/markdown": [
       "\n",
       "A tibble: 2 × 2\n",
       "\n",
       "| binary_quality &lt;dbl&gt; | n &lt;int&gt; |\n",
       "|---|---|\n",
       "| 0 | 1640 |\n",
       "| 1 | 3258 |\n",
       "\n"
      ],
      "text/plain": [
       "  binary_quality n   \n",
       "1 0              1640\n",
       "2 1              3258"
      ]
     },
     "metadata": {},
     "output_type": "display_data"
    }
   ],
   "source": [
    "# Measuring sizes\n",
    "options(repr.matrix.max.rows=10)\n",
    "summarized_wine <- group_by(white_wine_binary, quality) %>%\n",
    "    summarize(n=n())\n",
    "\n",
    "summarized_wine_binary <- group_by(white_wine_binary, binary_quality) %>%\n",
    "    summarize(n=n())\n",
    "\n",
    "summarized_wine\n",
    "summarized_wine_binary \n",
    "# 1640 of below average (0)\n",
    "# 3258 of above average (1)"
   ]
  },
  {
   "cell_type": "code",
   "execution_count": null,
   "metadata": {},
   "outputs": [],
   "source": [
    "# Sampling equal sizes\n"
   ]
  },
  {
   "cell_type": "code",
   "execution_count": 37,
   "metadata": {},
   "outputs": [],
   "source": [
    "# splitting data into training and testing\n",
    "# whitewine_split <- initial_split(white_wine_binary, prop = 0.74, strata = quality)\n",
    "# whitewine_train <- training(whitewine_split)\n",
    "# whitewine_test <- testing(whitewine_split)"
   ]
  },
  {
   "cell_type": "code",
   "execution_count": 38,
   "metadata": {},
   "outputs": [
    {
     "data": {
      "image/png": "[encoded data removed]",
      "text/plain": [
       "plot without title"
      ]
     },
     "metadata": {
      "image/png": {
       "height": 420,
       "width": 420
      }
     },
     "output_type": "display_data"
    },
    {
     "data": {
      "image/png": "[encoded data removed]",
      "text/plain": [
       "plot without title"
      ]
     },
     "metadata": {
      "image/png": {
       "height": 420,
       "width": 420
      }
     },
     "output_type": "display_data"
    }
   ],
   "source": [
    "# Visualizing binary quality distributions\n",
    "white_wine_plot <- ggplot(white_wine, aes(x=quality)) + geom_histogram(binwidth=0.5)\n",
    "white_wine_plot\n",
    "\n",
    "white_wine_plot_binary <- ggplot(white_wine_binary, aes(x=binary_quality)) + geom_histogram(binwidth=0.5)\n",
    "white_wine_plot_binary"
   ]
  },
  {
   "cell_type": "code",
   "execution_count": 31,
   "metadata": {},
   "outputs": [],
   "source": [
    "## Creating summmary tables and visualizations\n",
    "# summary(redwine_train)\n",
    "# redwine_train_summary <- do.call(cbind, lapply(redwine_train, summary))\n",
    "\n",
    "# summary(whitewine_train)\n",
    "# whitewine_train_summary <- do.call(cbind, lapply(whitewine_train, summary))\n",
    "\n",
    "# ...plot <- ggplot(redewine_train, aes(x = binary_quality, y = ...)) + \n",
    "#                          geom_bar(stat = \"identity\") +\n",
    "#                              xlab(\"Quality\") +\n",
    "#                              ylab(\"...\")\n",
    "\n",
    "# ...plot <- ggplot(whitewine_train, aes(x = binary_quality, y = ...)) + \n",
    "#                          geom_bar(stat = \"identity\") +\n",
    "#                              xlab(\"Quality\") +\n",
    "#                              ylab(\"...\")"
   ]
  },
  {
   "cell_type": "code",
   "execution_count": null,
   "metadata": {},
   "outputs": [],
   "source": []
  }
 ],
 "metadata": {
  "kernelspec": {
   "display_name": "R",
   "language": "R",
   "name": "ir"
  },
  "language_info": {
   "codemirror_mode": "r",
   "file_extension": ".r",
   "mimetype": "text/x-r-source",
   "name": "R",
   "pygments_lexer": "r",
   "version": "4.0.0"
  }
 },
 "nbformat": 4,
 "nbformat_minor": 4
}
