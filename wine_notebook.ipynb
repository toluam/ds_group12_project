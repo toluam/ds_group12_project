{
 "cells": [
  {
   "cell_type": "code",
   "execution_count": null,
   "metadata": {},
   "outputs": [],
   "source": [
    "library(tidyverse)\n",
    "library(repr)\n",
    "library(tidymodels)\n",
    "options(repr.matrix.max.rows = 6)"
   ]
  },
  {
   "cell_type": "code",
   "execution_count": null,
   "metadata": {},
   "outputs": [],
   "source": [
    "#loading data\n",
    "url <- \"https://archive.ics.uci.edu/ml/machine-learning-databases/wine-quality/winequality-red.csv\"\n",
    "red_wine <- read_csv2(file = url, col_names = TRUE)\n",
    "red_wine\n",
    "\n",
    "url2 <- \"https://archive.ics.uci.edu/ml/machine-learning-databases/wine-quality/winequality-white.csv\"\n",
    "white_wine <- read_csv2(file = url2, col_names = TRUE)\n",
    "white_wine"
   ]
  },
  {
   "cell_type": "markdown",
   "metadata": {},
   "source": [
    "Selecting our parameters\n",
    "\n",
    "We could start by creating a scatterplot of each variable against the quality/classification metric we've created and see which variables have the strongest relationship as an indicator of what parameters will be most important for our model.\n",
    "\n",
    "A more precise approach would be using feature selection, which will rank the most relevant variables to prediting quality"
   ]
  },
  {
   "cell_type": "code",
   "execution_count": null,
   "metadata": {},
   "outputs": [],
   "source": [
    "## Data Cleaning ##\n",
    "colnames(red_wine) <- make.names(colnames(red_wine))\n",
    "\n",
    "colnames(white_wine) <- make.names(colnames(white_wine))\n",
    "\n",
    "red_wine$chlorides <- as.numeric(as.character(red_wine$chlorides))\n",
    "red_wine$volatile.acidity <- as.numeric(as.character(red_wine$volatile.acidity))\n",
    "red_wine$citric.acid <- as.numeric(as.character(red_wine$citric.acid))\n",
    "red_wine$densiy <- as.numeric(as.character(red_wine$density))\n",
    "red_wine$sulphates <- as.numeric(as.character(red_wine$sulphates))\n",
    "\n",
    "\n",
    "white_wine$chlorides <- as.numeric(as.character(white_wine$chlorides))\n",
    "white_wine$volatile.acidity <- as.numeric(as.character(white_wine$volatile.acidity))\n",
    "white_wine$citric.acid <- as.numeric(as.character(white_wine$citric.acid))\n",
    "white_wine$residual.sugar <- as.numeric(as.character(white_wine$residual.sugar))\n",
    "white_wine$density <- as.numeric(as.character(white_wine$density))\n",
    "white_wine$sulphates <- as.numeric(as.character(white_wine$sulphates))\n",
    "\n",
    "# Extracting the columns we want\n",
    "redwine <- red_wine %>%\n",
    "select(..., ..., ..., quality)\n",
    "\n",
    "whitewine <- white_wine %>%\n",
    "select(..., ..., ..., quality)\n",
    "\n",
    "# Making the quality binary\n",
    "white_wine_binary <- whitewine %>%\n",
    "    mutate(binary_quality = if_else(quality < 6, 0, 1))\n",
    "\n",
    "red_wine_binary <- redwine %>%\n",
    "    mutate(binary_quality = if_else(quality < 6, 0, 1))\n",
    "\n",
    "white_wine_binary\n",
    "red_wine_binary"
   ]
  },
  {
   "cell_type": "code",
   "execution_count": null,
   "metadata": {},
   "outputs": [],
   "source": [
    "# splitting data into training and testing\n",
    "redwine_split <- initial_split(red_wine_binary, prop = 0.74, strata = quality)\n",
    "redwine_train <- training(redwine_split)\n",
    "redwine_test <- testing(redwine_split)\n",
    "\n",
    "whitewine_split <- initial_split(white_wine_binary, prop = 0.74, strata = quality)\n",
    "whitewine_train <- training(whitewine_split)\n",
    "whitewine_test <- testing(whitewine_split)"
   ]
  },
  {
   "cell_type": "code",
   "execution_count": null,
   "metadata": {},
   "outputs": [],
   "source": [
    "## Visualizing binary quality distributions\n",
    "#white_wine_plot <- ggplot(white_wine, aes(x=quality)) + geom_histogram(binwidth=0.5)\n",
    "#white_wine_plot\n",
    "\n",
    "#white_wine_plot_binary <- ggplot(white_wine_binary, aes(x=binary_quality)) + geom_histogram(binwidth=0.5)\n",
    "#white_wine_plot_binary\n",
    "\n",
    "#red_wine_plot <- ggplot(red_wine, aes(x=quality)) + geom_histogram(binwidth=0.5)\n",
    "#red_wine_plot\n",
    "\n",
    "#red_wine_plot_binary <- ggplot(red_wine_binary, aes(x=binary_quality)) + geom_histogram(binwidth=0.5)\n",
    "#red_wine_plot_binary"
   ]
  },
  {
   "cell_type": "code",
   "execution_count": null,
   "metadata": {},
   "outputs": [],
   "source": [
    "# Visualizing distributions with three categorical variables\n",
    "#white_wine_filtered <- white_wine %>%\n",
    "#    filter(quality >= 5, quality <= 7)\n",
    "\n",
    "#red_wine_filtered <- red_wine %>%\n",
    "#    filter(quality >= 5, quality <= 7)\n",
    "\n",
    "#white_wine_filtered_plot <- ggplot(white_wine_filtered, aes(x=quality)) + geom_histogram(binwidth=0.5)\n",
    "#white_wine_filtered_plot\n",
    "\n",
    "#red_wine_filtered_plot <- ggplot(red_wine_filtered, aes(x=quality)) + geom_histogram(binwidth=0.5)\n",
    "#red_wine_filtered_plot"
   ]
  },
  {
   "cell_type": "code",
   "execution_count": null,
   "metadata": {},
   "outputs": [],
   "source": [
    "## Creating summmary tables and visualizations\n",
    "summary(redwine_train)\n",
    "redwine_train_summary <- do.call(cbind, lapply(redwine_train, summary))\n",
    "\n",
    "summary(whitewine_train)\n",
    "whitewine_train_summary <- do.call(cbind, lapply(whitewine_train, summary))\n",
    "\n",
    "\n",
    "...plot <- ggplot(whitewine_train, aes(x = binary_quality, y = ...)) + \n",
    "                         geom_bar(stat = \"identity\") +\n",
    "                             xlab(\"Quality\") +\n",
    "                             ylab(\"...\")"
   ]
  },
  {
   "cell_type": "code",
   "execution_count": null,
   "metadata": {},
   "outputs": [],
   "source": []
  }
 ],
 "metadata": {
  "kernelspec": {
   "display_name": "R",
   "language": "R",
   "name": "ir"
  },
  "language_info": {
   "codemirror_mode": "r",
   "file_extension": ".r",
   "mimetype": "text/x-r-source",
   "name": "R",
   "pygments_lexer": "r",
   "version": "4.0.0"
  }
 },
 "nbformat": 4,
 "nbformat_minor": 4
}
