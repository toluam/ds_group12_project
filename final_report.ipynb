{
 "cells": [
  {
   "cell_type": "code",
   "execution_count": null,
   "metadata": {},
   "outputs": [],
   "source": [
    "# Loading libraries\n",
    "library(tidyverse)\n",
    "library(digest)\n",
    "library(repr)\n",
    "library(tidymodels)\n",
    "library(GGally)\n",
    "library(ISLR)\n",
    "options(repr.matrix.max.rows = 12)"
   ]
  },
  {
   "cell_type": "code",
   "execution_count": null,
   "metadata": {},
   "outputs": [],
   "source": [
    "# Loading the data\n",
    "ww_url <- \"https://archive.ics.uci.edu/ml/machine-learning-databases/wine-quality/winequality-white.csv\"\n",
    "rw_url <- \"https://archive.ics.uci.edu/ml/machine-learning-databases/wine-quality/winequality-red.csv\"\n",
    "ww <- read_delim(ww_url, delim = \";\", col_names = TRUE)\n",
    "rw <- read_delim(rw_url, delim = \";\", col_names = TRUE)\n",
    "\n",
    "colnames(ww) <- make.names(colnames(ww))\n",
    "colnames(rw) <- make.names(colnames(rw))"
   ]
  },
  {
   "cell_type": "markdown",
   "metadata": {},
   "source": [
    "Below we summarize each dataset to gain preliminary insight into the datasets."
   ]
  },
  {
   "cell_type": "code",
   "execution_count": null,
   "metadata": {},
   "outputs": [],
   "source": [
    "# Red wine summary statistics\n",
    "\"red wine statistics\"\n",
    "summary(rw)\n",
    "\n",
    "# white wine summary statistics\n",
    "\"white wine statistics\"\n",
    "summary(ww)"
   ]
  },
  {
   "cell_type": "markdown",
   "metadata": {},
   "source": [
    "Below we convert the multi-categorical classes of quality to a binary variable where 0 represents \"bad\" or below average, and 1 represents \"good\" or above average. We purposefully do this to achieve better class balance as quality is approximately normally distributed between 5 and 6.\n",
    "\n",
    "We split the classes based on the average quality score we calculate for each wine data set."
   ]
  },
  {
   "cell_type": "code",
   "execution_count": null,
   "metadata": {},
   "outputs": [],
   "source": [
    "options(repr.plot.height = 15, repr.plot.width = 15)\n",
    "\n",
    "# Calculating the wine quality averages\n",
    "rw_avg <- mean(rw$quality)\n",
    "ww_avg <- mean(ww$quality)\n",
    "\n",
    "# Converting quality to binary scores as factors\n",
    "rw_bin <- rw %>%\n",
    "    mutate(binary.quality = as_factor(if_else(quality < rw_avg, 0,1)))\n",
    "\n",
    "ww_bin <- ww %>%\n",
    "    mutate(binary.quality = as_factor(if_else(quality < ww_avg, 0,1)))\n",
    "\n",
    "# Converting quality to binary scores without factorizing\n",
    "rw_bin_non_fct <- rw %>%\n",
    "    mutate(binary.quality = if_else(quality < rw_avg, 0,1))\n",
    "\n",
    "ww_bin_non_fct <- ww %>%\n",
    "    mutate(binary.quality = if_else(quality < ww_avg, 0,1))"
   ]
  },
  {
   "cell_type": "markdown",
   "metadata": {},
   "source": [
    "We use ggpairs() to create a summary of the variables and their respective distributions. We also use cor() to calcualate the correlations between each predictor variable and the response variable (binary_quality).\n",
    "\n",
    "\n",
    "We use the information presented below to better inform which data set to use given its prospects for a fruitful data analysis."
   ]
  },
  {
   "cell_type": "code",
   "execution_count": null,
   "metadata": {},
   "outputs": [],
   "source": [
    "# Red wine plot and Pearson correlations\n",
    "rw_plot <- ggpairs(rw_bin)\n",
    "\n",
    "rw_corr <- rw_bin_non_fct %>%\n",
    "    cor() %>% # cor() returns a vector, here we convert it to a data frame so we can use it\n",
    "    as.data.frame() %>% \n",
    "    select(binary.quality) %>%\n",
    "    arrange(desc(abs(binary.quality))) %>%\n",
    "    tail(-2)\n",
    "\n",
    "rw_plot\n",
    "rw_corr"
   ]
  },
  {
   "cell_type": "code",
   "execution_count": null,
   "metadata": {},
   "outputs": [],
   "source": [
    "# White wine plot and Pearson correlations\n",
    "ww_plot <- ggpairs(rw_bin)\n",
    "\n",
    "ww_corr <- ww_bin_non_fct %>%\n",
    "    cor() %>%\n",
    "    as.data.frame() %>%\n",
    "    select(binary.quality) %>%\n",
    "    arrange(desc(abs(binary.quality))) %>%\n",
    "    tail(-2)\n",
    "\n",
    "ww_plot\n",
    "ww_corr"
   ]
  },
  {
   "cell_type": "markdown",
   "metadata": {},
   "source": [
    "Intuitively, it seems the quality of a red wine is more dependent on its physicochemical composition. We combine the tables below."
   ]
  },
  {
   "cell_type": "code",
   "execution_count": null,
   "metadata": {},
   "outputs": [],
   "source": [
    "total_corr <- merge(ww_corr, rw_corr, by = 'row.names', all = TRUE) %>%\n",
    "    rename(\"variables\" = Row.names, \"white.wine\" = binary.quality.x, \"red.wine\" = binary.quality.y) %>%\n",
    "    mutate(\"stronger.correl\" = if_else(white.wine > red.wine, \"white\", \"red\"))\n",
    "\n",
    "total_corr"
   ]
  },
  {
   "cell_type": "markdown",
   "metadata": {},
   "source": [
    "Confirming our intuition, the quality of a red wine, all else equal, is more dependent on its physicochemical composition; of the 10 variables, red wines have stronger correlations for 6.\n",
    "\n",
    "Therefore, to conduct a fruitful analysis, we will hereinafter use the red wine dataset for all analysis. We now visualize the distributions of the five strongest red wine correlations"
   ]
  },
  {
   "cell_type": "code",
   "execution_count": null,
   "metadata": {},
   "outputs": [],
   "source": [
    "options(repr.plot.height = 7, repr.plot.width = 7)\n",
    "\n",
    "rw_strongest <- total_corr %>%\n",
    "    select(variables, red.wine) %>%\n",
    "    arrange(desc(abs(red.wine)))\n",
    "\n",
    "rw_strongest\n",
    "\n",
    "# Alcohol density plot\n",
    "alcohol_dens <- rw_bin %>%\n",
    "    ggplot(aes(x = alcohol, group = binary.quality, fill = binary.quality)) +\n",
    "    geom_density(adjust = 1.5, alpha = 0.4) +\n",
    "    labs(x = \"Alcohol Level in Wine\", y = \"Density of Observations\", fill = \"Wine Quality\", title = \"Density of Alcohol Observations by Wine Quality\")\n",
    "\n",
    "# Volatile acidity density plot\n",
    "volatile_acidity_dens <- rw_bin %>%\n",
    "    ggplot(aes(x = volatile.acidity, group = binary.quality, fill = binary.quality)) +\n",
    "    geom_density(adjust = 1.5, alpha = 0.4) +\n",
    "    labs(x = \"Volatile Acidity Levels in Wine\", y = \"Density of Observations\", fill = \"Wine Quality\", title = \"Density of Volatile Acidity Observations by Wine Quality\")\n",
    "\n",
    "# Total sulfur dixoide plot\n",
    "total_sulfur_dioxide_dens <- rw_bin %>%\n",
    "    ggplot(aes(x = total.sulfur.dioxide, group = binary.quality, fill = binary.quality)) +\n",
    "    geom_density(adjust = 1.5, alpha = 0.4) +\n",
    "    labs(x = \"Total Sulfur Dioxide Level in Wine\", y = \"Density of Observations\", fill = \"Wine Quality\", title = \"Density of Total Sulfur Dioxide by Wine Quality\")\n",
    "\n",
    "# Sulphates\n",
    "sulphates_dens <- rw_bin %>%\n",
    "    ggplot(aes(x = sulphates, group = binary.quality, fill = binary.quality)) +\n",
    "    geom_density(adjust = 1.5, alpha = 0.4) +\n",
    "    labs(x = \"Sulphate Level in Wine\", y = \"Density of Observations\", fill = \"Wine Quality\", title = \"Density of Sulphate Observations by Wine Quality\")\n",
    "\n",
    "# Citric acid\n",
    "citric_acid_dens <- rw_bin %>%\n",
    "    ggplot(aes(x = citric.acid, group = binary.quality, fill = binary.quality)) +\n",
    "    geom_density(adjust = 1.5, alpha = 0.4) +\n",
    "    labs(x = \"Citric Acid Level in Wine\", y = \"Density of Observations\", fill = \"Wine Quality\", title = \"Density of Citric Acid Observations by Wine Quality\")\n",
    "\n",
    "alcohol_dens\n",
    "volatile_acidity_dens\n",
    "total_sulfur_dioxide_dens\n",
    "sulphates_dens\n",
    "citric_acid_dens"
   ]
  },
  {
   "cell_type": "markdown",
   "metadata": {},
   "source": [
    "As exhibited in the above plots, alcohol level has the highest positive correlation to the quality of a red wine. The following plots also show moderately significant correlations, so we must decide which to use as to obtain the highest accuracy. This process is called feature selection and we will be using a forward selection process.  "
   ]
  },
  {
   "cell_type": "code",
   "execution_count": null,
   "metadata": {},
   "outputs": [],
   "source": [
    "options(repr.plot.width = 12, repr.plot.height = 12)\n",
    "set.seed(6238)"
   ]
  },
  {
   "cell_type": "code",
   "execution_count": null,
   "metadata": {},
   "outputs": [],
   "source": [
    "rw_good <- rw_bin[which(rw_bin$binary.quality == 1),]\n",
    "length(rw_good$binary.quality)"
   ]
  },
  {
   "cell_type": "code",
   "execution_count": null,
   "metadata": {},
   "outputs": [],
   "source": []
  }
 ],
 "metadata": {
  "kernelspec": {
   "display_name": "R",
   "language": "R",
   "name": "ir"
  },
  "language_info": {
   "codemirror_mode": "r",
   "file_extension": ".r",
   "mimetype": "text/x-r-source",
   "name": "R",
   "pygments_lexer": "r",
   "version": "4.0.0"
  }
 },
 "nbformat": 4,
 "nbformat_minor": 4
}
