{
 "cells": [
  {
   "cell_type": "markdown",
   "metadata": {},
   "source": [
    "Wine is an alcoholic drink, typically made from fermented grapes. With different quality of the raw materials and process, physicochemical components and sensory variables may change. We are exploring the question: based on physicochemical data, can we categorize if the quality of wine will be above or below average? We are using the “Wine Quality Data Set” that keeps records of red and white vinho verde wine samples, from the north of Portugal. Each row indicates the test for one type of wine including physicochemical variables (e.g. fixed acidity, volatile acidity, residual sugar) and an index indicating the condition (quality). We are going to find the relationship between the physicochemical statistics and the quality of wine."
   ]
  },
  {
   "cell_type": "code",
   "execution_count": null,
   "metadata": {},
   "outputs": [],
   "source": [
    "library(tidyverse)\n",
    "library(repr)\n",
    "library(tidymodels)\n",
    "options(repr.matrix.max.rows = 6)"
   ]
  },
  {
   "cell_type": "code",
   "execution_count": null,
   "metadata": {},
   "outputs": [],
   "source": [
    "#loading data\n",
    "url <- \"https://archive.ics.uci.edu/ml/machine-learning-databases/wine-quality/winequality-white.csv\"\n",
    "white_wine <- read_csv2(file = url, col_names = TRUE)\n",
    "white_wine"
   ]
  },
  {
   "cell_type": "code",
   "execution_count": null,
   "metadata": {},
   "outputs": [],
   "source": [
    "## Data Cleaning ##\n",
    "colnames(white_wine) <- make.names(colnames(white_wine))\n",
    "\n",
    "white_wine$chlorides <- as.numeric(as.character(white_wine$chlorides))\n",
    "white_wine$volatile.acidity <- as.numeric(as.character(white_wine$volatile.acidity))\n",
    "white_wine$citric.acid <- as.numeric(as.character(white_wine$citric.acid))\n",
    "white_wine$residual.sugar <- as.numeric(as.character(white_wine$residual.sugar))\n",
    "white_wine$density <- as.numeric(as.character(white_wine$density))\n",
    "white_wine$sulphates <- as.numeric(as.character(white_wine$sulphates))\n",
    "\n",
    "# # Extracting the columns we want\n",
    "\n",
    "whitewine <- white_wine %>%\n",
    "select(volatile.acidity, sulphates, pH, total.sulfur.dioxide, alcohol, chlorides, quality)\n",
    "whitewine\n",
    "\n",
    "# Finding the mean quality of white wine\n",
    "avg_quality <- mean(whitewine$quality)\n",
    "avg_quality\n",
    "\n",
    "# # Making the quality binary\n",
    "white_wine_binary_temp <- whitewine %>%\n",
    "    mutate(binary_quality = if_else(quality < avg_quality, 0, 1))\n",
    "\n",
    "white_wine_binary_temp\n",
    "\n",
    "# The binary data is not equally split up, so we need to make sure we have an equal distribution of 0 and 1 observations\n",
    "wine1 <- white_wine_binary_temp[which(white_wine_binary_temp$binary_quality == 1),]\n",
    "length(wine1$binary_quality)\n",
    "wine0 <- white_wine_binary_temp[which(white_wine_binary_temp$binary_quality == 0),]\n",
    "length(wine0$binary_quality)\n",
    "\n",
    "wine1_subset <- sample_n(wine1, 1640)\n",
    "length(wine1_subset$quality)\n",
    "\n",
    "white_wine_binary <- rbind(wine1_subset, wine0)\n",
    "length(white_wine_binary$quality)"
   ]
  },
  {
   "cell_type": "code",
   "execution_count": null,
   "metadata": {},
   "outputs": [],
   "source": [
    "# Visualizing binary quality distributions\n",
    "white_wine_plot <- ggplot(white_wine, aes(x=quality)) + geom_histogram(binwidth=0.5)\n",
    "white_wine_plot\n",
    "\n",
    "white_wine_plot_binary <- ggplot(white_wine_binary, aes(x=binary_quality)) + geom_histogram(binwidth=0.5)\n",
    "white_wine_plot_binary"
   ]
  },
  {
   "cell_type": "code",
   "execution_count": null,
   "metadata": {},
   "outputs": [],
   "source": [
    "# splitting data into training and testing\n",
    "whitewine_split <- initial_split(white_wine_binary, prop = 0.74, strata = quality)\n",
    "whitewine_train <- training(whitewine_split)\n",
    "whitewine_test <- testing(whitewine_split)"
   ]
  },
  {
   "cell_type": "code",
   "execution_count": null,
   "metadata": {},
   "outputs": [],
   "source": [
    "## Creating summmary tables and visualizations\n",
    "\n",
    "summary(whitewine_train)\n",
    "whitewine_train_summary <- do.call(cbind, lapply(whitewine_train, summary))\n",
    "\n",
    "whitewine_train_summary\n",
    "\n",
    "chlorides.plot <- ggplot(whitewine_train, aes(x = binary_quality, y = chlorides)) + \n",
    "                          geom_point() +\n",
    "                              xlab(\"Quality (0 or 1)\") +\n",
    "                              ylab(\"Chlorides (g(sodium chloride)/dm3)\")\n",
    "chlorides.plot"
   ]
  },
  {
   "cell_type": "markdown",
   "metadata": {},
   "source": [
    "Classification is the process of predicting a categorical label of a data object based on its features and properties. In classification, we locate identifiers or boundary conditions that correspond to a particular label or category.\n",
    "\n",
    "We first created 11 scatter plots each plotting the target variable, binary quality, to each predictor variable, such as pH level. Through this method, we determined six variables exist with significant influence on the target variable: Volatile acidity, total sulfur dioxide, sulphates, alcohol, chloride, pH. \n",
    "\n",
    "For our classification, we will use the KNN classification model. We will need to train it with the training and testing sets in order to predict the wine quality. We would visualize the data by plotting each pair of the variables on the x axis and y axis, then we would color the target variable quality. We can also find the classifier with the highest accuracy. "
   ]
  },
  {
   "cell_type": "markdown",
   "metadata": {},
   "source": [
    "We expect that higher alcohol, lower volatile acidity and lower chloride would lead to higher quality of the wine. It is hard to tell how the other three variables would affect quality by the scatterplot. We need to perform further analysis to justify their significance.\n",
    "\n",
    "By predicting the wine quality using the above variables, we can give the wineries a clear indicator of what is considered a good-quality wine. Our findings would help the wineries to reflect on their wine production process. \n",
    "\n",
    "Some areas for further analysis include if there are other variables not included in this dataset that could improve our prediction, such as final sale price; is there a better combination of variables that could improve the prediction; is this model transferable for red wines as well?"
   ]
  },
  {
   "cell_type": "code",
   "execution_count": null,
   "metadata": {},
   "outputs": [],
   "source": []
  }
 ],
 "metadata": {
  "kernelspec": {
   "display_name": "R",
   "language": "R",
   "name": "ir"
  },
  "language_info": {
   "codemirror_mode": "r",
   "file_extension": ".r",
   "mimetype": "text/x-r-source",
   "name": "R",
   "pygments_lexer": "r",
   "version": "4.0.0"
  }
 },
 "nbformat": 4,
 "nbformat_minor": 4
}
